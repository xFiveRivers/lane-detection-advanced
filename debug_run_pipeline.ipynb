{
 "cells": [
  {
   "cell_type": "code",
   "execution_count": 1,
   "metadata": {},
   "outputs": [],
   "source": [
    "import cv2\n",
    "import numpy as np\n",
    "import matplotlib.pyplot as plt\n",
    "import os\n",
    "\n",
    "from main import *"
   ]
  },
  {
   "cell_type": "code",
   "execution_count": 2,
   "metadata": {},
   "outputs": [],
   "source": [
    "main = LaneDetection()"
   ]
  },
  {
   "cell_type": "code",
   "execution_count": 3,
   "metadata": {},
   "outputs": [],
   "source": [
    "input_folder = 'test_images/'\n",
    "output_folder = 'output_media/'\n",
    "\n",
    "file_names = os.listdir(input_folder)\n",
    "\n",
    "input_files = [input_folder + f for f in file_names]\n",
    "output_files = [output_folder + f for f in file_names]\n",
    "\n",
    "# for input_path, output_path in zip(input_files, output_files):\n",
    "#     main.process_image(input_path, output_path)"
   ]
  },
  {
   "cell_type": "code",
   "execution_count": 4,
   "metadata": {},
   "outputs": [],
   "source": [
    "video_input = 'test_videos/challenge_video.mp4'\n",
    "video_output = 'output_media/challenge_video.avi'\n",
    "\n",
    "main.process_video(video_input, video_output, True, True)"
   ]
  }
 ],
 "metadata": {
  "kernelspec": {
   "display_name": "comp-vis",
   "language": "python",
   "name": "python3"
  },
  "language_info": {
   "codemirror_mode": {
    "name": "ipython",
    "version": 3
   },
   "file_extension": ".py",
   "mimetype": "text/x-python",
   "name": "python",
   "nbconvert_exporter": "python",
   "pygments_lexer": "ipython3",
   "version": "3.12.1"
  }
 },
 "nbformat": 4,
 "nbformat_minor": 2
}
